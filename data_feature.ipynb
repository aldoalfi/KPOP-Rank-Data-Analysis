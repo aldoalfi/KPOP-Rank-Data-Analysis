{
 "cells": [
  {
   "cell_type": "code",
   "execution_count": null,
   "metadata": {},
   "outputs": [],
   "source": [
    "import spotipy\n",
    "import pandas as pd\n",
    "from spotipy.oauth2 import SpotifyClientCredentials\n",
    "\n",
    "\n",
    "my_id ='2da3caab40f7496ca9640f1d38cbc182'\n",
    "secret_key ='b73081d8cd9948c19bb7594f065d6899'\n",
    "    \n",
    "client_credentials_manager = SpotifyClientCredentials(client_id = my_id, client_secret = secret_key)\n",
    "sp = spotipy.Spotify(client_credentials_manager=client_credentials_manager)\n",
    "\n",
    "\n",
    "BTS = 'https://open.spotify.com/artist/3Nrfpe0tUJi4K4DXYWgMUX'\n",
    "GIDLE= 'https://open.spotify.com/artist/2AfmfGFbe0A0WsTYm0SDTx'\n",
    "BLACKPINK = 'https://open.spotify.com/artist/41MozSoPIsD1dJM0CLPjZF'\n",
    "MAMAMOO = 'https://open.spotify.com/artist/0XATRDCYuuGhk0oE7C0o5G'\n",
    "EXO = 'https://open.spotify.com/artist/3cjEqqelV9zb4BYE3qDQ4O'\n",
    "TWICE = 'https://open.spotify.com/artist/7n2Ycct7Beij7Dj7meI4X0'\n",
    "SNSD = 'https://open.spotify.com/artist/0Sadg1vgvaPqGTOjxu0N6c' \n",
    "RV = 'https://open.spotify.com/artist/1z4g3DjTBBZKhvAroFlhOM'\n",
    "WINNER = 'https://open.spotify.com/artist/5DuzBeOgFwViFcv00Q5PFb' \n",
    "NUEST = 'https://open.spotify.com/artist/1iQfn1B8V25iQoolQakyAZ'\n",
    "BIGBANG = 'https://open.spotify.com/artist/4Kxlr1PRlDKEB0ekOCyHgX' \n",
    "OMG = 'https://open.spotify.com/artist/2019zR22qK2RBvCqtudBaI'\n",
    "HOTSHOT = 'https://open.spotify.com/artist/0lE4Ctn38KnvJ56oGRkNx7' \n",
    "LC = 'https://open.spotify.com/artist/4epPY1AW9lQeVUM1XaFiwi'\n",
    "#AOA = 'https://open.spotify.com/artist/54gWVQFHf8IIqbjxAoOarN'\n",
    "ASTRO = 'https://open.spotify.com/artist/4pz4uzOMpJQyV8UTsDy4H8' \n",
    "SEVENTEEN = 'https://open.spotify.com/artist/7nqOGRxlXj7N2JYbgNEjYH'\n",
    "#SUJU = 'https://open.spotify.com/artist/6gzXCdfYfFe5XKhPKkYqxV'\n",
    "WJSN = 'https://open.spotify.com/artist/6hhqsQZhtp9hfaZhSd0VSD'\n",
    "LOVELYZ = 'https://open.spotify.com/artist/3g34PW5oNmDBxMVUTzx2XK'\n",
    "#NCT = 'https://open.spotify.com/artist/1gBUSTR3TyDdTVFIaQnc02'\n",
    "TXT = 'https://open.spotify.com/artist/0ghlgldX5Dd6720Q3qFyQB'\n",
    "SHINE = 'https://open.spotify.com/artist/2hRQKC0gqlZGPrmUKbcchR'\n",
    "\n",
    "\n",
    "artist_list = [BTS, GIDLE, BLACKPINK, MAMAMOO, EXO, TWICE, SNSD, RV, WINNER, NUEST, BIGBANG, OMG, HOTSHOT, LC, ASTRO, SEVENTEEN, WJSN, LOVELYZ, TXT, SHINE]\n",
    "\n",
    "\n",
    "feature_list = []\n",
    "\n",
    "for artist in artist_list:\n",
    "    \n",
    "    artistalbums = sp.artist_albums(artist_id = artist, limit = 50)\n",
    "    \n",
    "    \n",
    "    # Albums\n",
    "    for i in range(len(artistalbums['items'])):\n",
    "        album_uri = artistalbums['items'][i]['uri']\n",
    "        album_tracks = sp.album_tracks(album_uri)\n",
    "        \n",
    "        # Tracks\n",
    "        for j in range(len(album_tracks['items'])):\n",
    "            album_song = album_tracks['items'][j]['uri']\n",
    "            audiofeatures = sp.audio_features(album_song)\n",
    "\n",
    "\n",
    "            # Audio Feature in Track\n",
    "            for feature in audiofeatures:\n",
    "                feature_list.append([feature['duration_ms'], feature['key'], feature['tempo'], feature['acousticness'], feature['danceability'], \n",
    "                                     feature['instrumentalness'], feature['speechiness'], feature['valence'], artistalbums['items'][0]['artists'][0]['name'],\n",
    "                                     artistalbums['items'][i]['release_date'], album_tracks['items'][j]['name']])\n",
    "\n"
   ]
  },
  {
   "cell_type": "code",
   "execution_count": null,
   "metadata": {},
   "outputs": [],
   "source": [
    "data = pd.DataFrame(feature_list, columns = ['duration_ms','key','tempo','acousticness','danceability','instrumentalness','speechiness','valence', 'artist_name', 'release_date', 'song_name'])\n",
    "\n",
    "data.to_csv ('C:/Users/aldoa/Desktop/dataset probstok chop-chop.csv/audio_feature.csv')\n",
    "\n",
    "data"
   ]
  },
  {
   "cell_type": "code",
   "execution_count": null,
   "metadata": {},
   "outputs": [],
   "source": []
  }
 ],
 "metadata": {
  "kernelspec": {
   "display_name": "Python 3",
   "language": "python",
   "name": "python3"
  },
  "language_info": {
   "codemirror_mode": {
    "name": "ipython",
    "version": 3
   },
   "file_extension": ".py",
   "mimetype": "text/x-python",
   "name": "python",
   "nbconvert_exporter": "python",
   "pygments_lexer": "ipython3",
   "version": "3.7.3"
  }
 },
 "nbformat": 4,
 "nbformat_minor": 2
}
